{
 "cells": [
  {
   "cell_type": "code",
   "execution_count": 5,
   "metadata": {},
   "outputs": [
    {
     "name": "stdout",
     "output_type": "stream",
     "text": [
      "Found existing installation: pyvis 0.1.9\n",
      "Uninstalling pyvis-0.1.9:\n",
      "  Successfully uninstalled pyvis-0.1.9\n",
      "Note: you may need to restart the kernel to use updated packages.\n",
      "Collecting pyvis==0.1.9\n",
      "  Using cached pyvis-0.1.9-py3-none-any.whl.metadata (384 bytes)\n",
      "Requirement already satisfied: jinja2>=2.9.6 in /Library/Frameworks/Python.framework/Versions/3.13/lib/python3.13/site-packages (from pyvis==0.1.9) (3.1.6)\n",
      "Requirement already satisfied: networkx>=1.11 in /Library/Frameworks/Python.framework/Versions/3.13/lib/python3.13/site-packages (from pyvis==0.1.9) (3.4.2)\n",
      "Requirement already satisfied: ipython>=5.3.0 in /Users/Sewmini/Library/Python/3.13/lib/python/site-packages (from pyvis==0.1.9) (9.2.0)\n",
      "Requirement already satisfied: jsonpickle>=1.4.1 in /Library/Frameworks/Python.framework/Versions/3.13/lib/python3.13/site-packages (from pyvis==0.1.9) (4.0.5)\n",
      "Requirement already satisfied: decorator in /Users/Sewmini/Library/Python/3.13/lib/python/site-packages (from ipython>=5.3.0->pyvis==0.1.9) (5.2.1)\n",
      "Requirement already satisfied: ipython-pygments-lexers in /Users/Sewmini/Library/Python/3.13/lib/python/site-packages (from ipython>=5.3.0->pyvis==0.1.9) (1.1.1)\n",
      "Requirement already satisfied: jedi>=0.16 in /Users/Sewmini/Library/Python/3.13/lib/python/site-packages (from ipython>=5.3.0->pyvis==0.1.9) (0.19.2)\n",
      "Requirement already satisfied: matplotlib-inline in /Users/Sewmini/Library/Python/3.13/lib/python/site-packages (from ipython>=5.3.0->pyvis==0.1.9) (0.1.7)\n",
      "Requirement already satisfied: pexpect>4.3 in /Users/Sewmini/Library/Python/3.13/lib/python/site-packages (from ipython>=5.3.0->pyvis==0.1.9) (4.9.0)\n",
      "Requirement already satisfied: prompt_toolkit<3.1.0,>=3.0.41 in /Users/Sewmini/Library/Python/3.13/lib/python/site-packages (from ipython>=5.3.0->pyvis==0.1.9) (3.0.51)\n",
      "Requirement already satisfied: pygments>=2.4.0 in /Users/Sewmini/Library/Python/3.13/lib/python/site-packages (from ipython>=5.3.0->pyvis==0.1.9) (2.19.1)\n",
      "Requirement already satisfied: stack_data in /Users/Sewmini/Library/Python/3.13/lib/python/site-packages (from ipython>=5.3.0->pyvis==0.1.9) (0.6.3)\n",
      "Requirement already satisfied: traitlets>=5.13.0 in /Users/Sewmini/Library/Python/3.13/lib/python/site-packages (from ipython>=5.3.0->pyvis==0.1.9) (5.14.3)\n",
      "Requirement already satisfied: MarkupSafe>=2.0 in /Library/Frameworks/Python.framework/Versions/3.13/lib/python3.13/site-packages (from jinja2>=2.9.6->pyvis==0.1.9) (3.0.2)\n",
      "Requirement already satisfied: parso<0.9.0,>=0.8.4 in /Users/Sewmini/Library/Python/3.13/lib/python/site-packages (from jedi>=0.16->ipython>=5.3.0->pyvis==0.1.9) (0.8.4)\n",
      "Requirement already satisfied: ptyprocess>=0.5 in /Users/Sewmini/Library/Python/3.13/lib/python/site-packages (from pexpect>4.3->ipython>=5.3.0->pyvis==0.1.9) (0.7.0)\n",
      "Requirement already satisfied: wcwidth in /Users/Sewmini/Library/Python/3.13/lib/python/site-packages (from prompt_toolkit<3.1.0,>=3.0.41->ipython>=5.3.0->pyvis==0.1.9) (0.2.13)\n",
      "Requirement already satisfied: executing>=1.2.0 in /Users/Sewmini/Library/Python/3.13/lib/python/site-packages (from stack_data->ipython>=5.3.0->pyvis==0.1.9) (2.2.0)\n",
      "Requirement already satisfied: asttokens>=2.1.0 in /Users/Sewmini/Library/Python/3.13/lib/python/site-packages (from stack_data->ipython>=5.3.0->pyvis==0.1.9) (3.0.0)\n",
      "Requirement already satisfied: pure-eval in /Users/Sewmini/Library/Python/3.13/lib/python/site-packages (from stack_data->ipython>=5.3.0->pyvis==0.1.9) (0.2.3)\n",
      "Using cached pyvis-0.1.9-py3-none-any.whl (23 kB)\n",
      "Installing collected packages: pyvis\n",
      "Successfully installed pyvis-0.1.9\n",
      "\n",
      "\u001b[1m[\u001b[0m\u001b[34;49mnotice\u001b[0m\u001b[1;39;49m]\u001b[0m\u001b[39;49m A new release of pip is available: \u001b[0m\u001b[31;49m25.0.1\u001b[0m\u001b[39;49m -> \u001b[0m\u001b[32;49m25.1.1\u001b[0m\n",
      "\u001b[1m[\u001b[0m\u001b[34;49mnotice\u001b[0m\u001b[1;39;49m]\u001b[0m\u001b[39;49m To update, run: \u001b[0m\u001b[32;49mpip3 install --upgrade pip\u001b[0m\n",
      "Note: you may need to restart the kernel to use updated packages.\n"
     ]
    }
   ],
   "source": [
    "%pip uninstall pyvis -y\n",
    "%pip install pyvis==0.1.9"
   ]
  },
  {
   "cell_type": "code",
   "execution_count": null,
   "metadata": {},
   "outputs": [],
   "source": [
    "from pyvis.network import Network\n",
    "import networkx as nx\n",
    "import pandas as pd\n",
    "\n",
    "# Load your saved graph\n",
    "G = nx.read_gexf(\"nz_legislation_with_adjusted_communities.gexf\")\n",
    "\n",
    "# Initialize Pyvis\n",
    "net = Network(height=\"800px\", width=\"100%\", notebook=False)\n",
    "\n",
    "# Add nodes with community-based grouping\n",
    "for node, data in G.nodes(data=True):\n",
    "    label = data.get(\"name\", node)\n",
    "    community = data.get(\"community\", \"unknown\")\n",
    "    net.add_node(node, label=label, title=f\"Community: {community}\", group=community)\n",
    "\n",
    "# Add edges\n",
    "for u, v in G.edges():\n",
    "    net.add_edge(u, v)\n",
    "\n",
    "#net.barnes_hut()  # stabilizes the layout and prevents excessive movement\n",
    "# Before show() add this:\n",
    "net.set_options(\"\"\"\n",
    "{\n",
    "  \"physics\": {\n",
    "    \"stabilization\": {\n",
    "      \"enabled\": true,\n",
    "      \"iterations\": 1000,\n",
    "      \"updateInterval\": 25\n",
    "    },\n",
    "    \"barnesHut\": {\n",
    "      \"gravitationalConstant\": -8000,\n",
    "      \"centralGravity\": 0.3,\n",
    "      \"springLength\": 95,\n",
    "      \"springConstant\": 0.04,\n",
    "      \"damping\": 0.09,\n",
    "      \"avoidOverlap\": 1\n",
    "    }\n",
    "  }\n",
    "}\n",
    "\"\"\")\n",
    "\n",
    "# Save and open interactive HTML\n",
    "net.show(\"legislation_communities3.html\")"
   ]
  },
  {
   "cell_type": "code",
   "execution_count": 5,
   "metadata": {},
   "outputs": [
    {
     "name": "stdout",
     "output_type": "stream",
     "text": [
      "Number of communities: 14\n"
     ]
    }
   ],
   "source": [
    "# Count unique community IDs\n",
    "communities = set(nx.get_node_attributes(G, \"community\").values())\n",
    "print(f\"Number of communities: {len(communities)}\")"
   ]
  },
  {
   "cell_type": "code",
   "execution_count": 6,
   "metadata": {},
   "outputs": [
    {
     "name": "stdout",
     "output_type": "stream",
     "text": [
      "Community 10: 292 acts\n",
      "Community 15: 263 acts\n",
      "Community 20: 218 acts\n",
      "Community 7: 197 acts\n",
      "Community 8: 156 acts\n",
      "Community 9: 146 acts\n",
      "Community 12: 124 acts\n",
      "Community 16: 113 acts\n",
      "Community 27: 106 acts\n",
      "Community 11: 99 acts\n",
      "Community 4: 89 acts\n",
      "Community 3: 55 acts\n",
      "Community 22: 55 acts\n",
      "Community 6: 51 acts\n"
     ]
    }
   ],
   "source": [
    "from collections import Counter\n",
    "\n",
    "community_sizes = Counter(nx.get_node_attributes(G, \"community\").values())\n",
    "\n",
    "# Sort by size\n",
    "for comm_id, size in sorted(community_sizes.items(), key=lambda x: -x[1]):\n",
    "    print(f\"Community {comm_id}: {size} acts\")"
   ]
  },
  {
   "cell_type": "code",
   "execution_count": 12,
   "metadata": {},
   "outputs": [
    {
     "name": "stdout",
     "output_type": "stream",
     "text": [
      "✅ Projection graph saved as community_projection.html\n"
     ]
    }
   ],
   "source": [
    "import networkx as nx\n",
    "from collections import defaultdict, Counter\n",
    "from pyvis.network import Network\n",
    "\n",
    "# Load your full act-to-act graph (with 'community' as node attribute)\n",
    "G = nx.read_gexf(\"nz_legislation_with_adjusted_communities.gexf\")\n",
    "\n",
    "# Step 1: Count number of acts in each community\n",
    "community_sizes = Counter(nx.get_node_attributes(G, \"community\").values())\n",
    "\n",
    "# Step 2: Build a new projection graph\n",
    "C = nx.Graph()\n",
    "\n",
    "# Step 3: Count cross-community edges\n",
    "edge_weights = defaultdict(int)\n",
    "\n",
    "for u, v in G.edges():\n",
    "    cu = G.nodes[u].get(\"community\")\n",
    "    cv = G.nodes[v].get(\"community\")\n",
    "    if cu != cv:\n",
    "        key = tuple(sorted((cu, cv)))\n",
    "        edge_weights[key] += 1\n",
    "\n",
    "# Step 4: Add community nodes with size\n",
    "for comm, size in community_sizes.items():\n",
    "    C.add_node(comm, size=size)\n",
    "\n",
    "# Step 5: Add weighted edges between communities\n",
    "for (comm1, comm2), weight in edge_weights.items():\n",
    "    C.add_edge(comm1, comm2, weight=weight)\n",
    "\n",
    "# Step 6: Visualize it with Pyvis\n",
    "net = Network(height=\"700px\", width=\"100%\", notebook=False)\n",
    "for node, data in C.nodes(data=True):\n",
    "    net.add_node(str(node), label=f\"Community {node}\", size=data[\"size\"] * 2)\n",
    "\n",
    "for u, v, data in C.edges(data=True):\n",
    "    net.add_edge(str(u), str(v), value=data[\"weight\"])\n",
    "\n",
    "net.show(\"community_projection_only_communities.html\")\n",
    "print(\"✅ Projection graph saved as community_projection.html\")"
   ]
  },
  {
   "cell_type": "code",
   "execution_count": 13,
   "metadata": {},
   "outputs": [
    {
     "name": "stdout",
     "output_type": "stream",
     "text": [
      "✅ Saved: community_projection_colored.html\n"
     ]
    },
    {
     "name": "stderr",
     "output_type": "stream",
     "text": [
      "/var/folders/9y/3rlj5x9s12b4rh6g81wmnvfc0000gp/T/ipykernel_39368/183491769.py:39: MatplotlibDeprecationWarning: The get_cmap function was deprecated in Matplotlib 3.7 and will be removed in 3.11. Use ``matplotlib.colormaps[name]`` or ``matplotlib.colormaps.get_cmap()`` or ``pyplot.get_cmap()`` instead.\n",
      "  color_map = cm.get_cmap('tab20', len(C.nodes))  # up to 20 distinct colors\n"
     ]
    }
   ],
   "source": [
    "import networkx as nx\n",
    "from collections import defaultdict, Counter\n",
    "from pyvis.network import Network\n",
    "\n",
    "# Load your act-level graph (with community labels)\n",
    "G = nx.read_gexf(\"nz_legislation_with_adjusted_communities.gexf\")\n",
    "\n",
    "# Step 1: Count how many acts in each community\n",
    "community_sizes = Counter(nx.get_node_attributes(G, \"community\").values())\n",
    "\n",
    "# Step 2: Build a new projection graph\n",
    "C = nx.Graph()\n",
    "\n",
    "# Step 3: Count edges between communities\n",
    "edge_weights = defaultdict(int)\n",
    "for u, v in G.edges():\n",
    "    cu = G.nodes[u].get(\"community\")\n",
    "    cv = G.nodes[v].get(\"community\")\n",
    "    if cu != cv:\n",
    "        key = tuple(sorted((cu, cv)))\n",
    "        edge_weights[key] += 1\n",
    "\n",
    "# Step 4: Add nodes (one per community) with act counts\n",
    "for comm, size in community_sizes.items():\n",
    "    C.add_node(comm, size=size)\n",
    "\n",
    "# Step 5: Add weighted edges between communities\n",
    "for (comm1, comm2), weight in edge_weights.items():\n",
    "    C.add_edge(comm1, comm2, weight=weight)\n",
    "\n",
    "# Step 6: Visualize with Pyvis\n",
    "net = Network(height=\"700px\", width=\"100%\", notebook=False)\n",
    "net.barnes_hut()\n",
    "\n",
    "# Color map for distinct community colors (optional: use your own palette)\n",
    "from matplotlib import cm\n",
    "import matplotlib.colors as mcolors\n",
    "\n",
    "color_map = cm.get_cmap('tab20', len(C.nodes))  # up to 20 distinct colors\n",
    "community_colors = {\n",
    "    community: mcolors.to_hex(color_map(i)) for i, community in enumerate(sorted(C.nodes()))\n",
    "}\n",
    "\n",
    "# Add community nodes with color and scaled size\n",
    "for node, data in C.nodes(data=True):\n",
    "    size = data[\"size\"]\n",
    "    color = community_colors.get(node, \"#cccccc\")\n",
    "    net.add_node(\n",
    "        str(node),\n",
    "        label=f\"Community {node}\",\n",
    "        title=f\"{size} Acts\",\n",
    "        size=size * 0.2,\n",
    "        color=color\n",
    "    )\n",
    "\n",
    "# Add edges between communities with scaled thickness\n",
    "for u, v, data in C.edges(data=True):\n",
    "    weight = data[\"weight\"]\n",
    "    net.add_edge(\n",
    "        str(u), str(v),\n",
    "        value=max(1, weight // 5),\n",
    "        title=f\"{weight} links\"\n",
    "    )\n",
    "\n",
    "# Export to HTML\n",
    "net.show(\"community_projection_colored.html\")\n",
    "print(\"✅ Saved: community_projection_colored.html\")"
   ]
  },
  {
   "cell_type": "code",
   "execution_count": 2,
   "metadata": {},
   "outputs": [
    {
     "name": "stdout",
     "output_type": "stream",
     "text": [
      "✅ Saved: community_projection_labeled.html\n"
     ]
    },
    {
     "name": "stderr",
     "output_type": "stream",
     "text": [
      "/var/folders/9y/3rlj5x9s12b4rh6g81wmnvfc0000gp/T/ipykernel_41137/4091185314.py:45: MatplotlibDeprecationWarning: The get_cmap function was deprecated in Matplotlib 3.7 and will be removed in 3.11. Use ``matplotlib.colormaps[name]`` or ``matplotlib.colormaps.get_cmap()`` or ``pyplot.get_cmap()`` instead.\n",
      "  color_map = cm.get_cmap('tab20', len(C.nodes))\n"
     ]
    }
   ],
   "source": [
    "import networkx as nx\n",
    "from collections import defaultdict, Counter\n",
    "from pyvis.network import Network\n",
    "import pandas as pd\n",
    "from matplotlib import cm\n",
    "import matplotlib.colors as mcolors\n",
    "\n",
    "# === Step 1: Load full act-level graph ===\n",
    "G = nx.read_gexf(\"nz_legislation_with_adjusted_communities.gexf\")\n",
    "\n",
    "# === Step 2: Load topic label mapping ===\n",
    "# Your CSV must have columns: 'Topic' and 'topic_label'\n",
    "df_labels = pd.read_csv(\"topic_similarity_scores_external.csv\")\n",
    "topic_map = dict(zip(df_labels[\"Topic\"], df_labels[\"topic_label\"]))\n",
    "\n",
    "# === Step 3: Count acts per community ===\n",
    "community_sizes = Counter(nx.get_node_attributes(G, \"community\").values())\n",
    "\n",
    "# === Step 4: Build the projection graph (one node per community) ===\n",
    "C = nx.Graph()\n",
    "\n",
    "# Count number of cross-community relationships\n",
    "edge_weights = defaultdict(int)\n",
    "for u, v in G.edges():\n",
    "    cu = G.nodes[u].get(\"community\")\n",
    "    cv = G.nodes[v].get(\"community\")\n",
    "    if cu != cv:\n",
    "        key = tuple(sorted((cu, cv)))\n",
    "        edge_weights[key] += 1\n",
    "\n",
    "# Add community nodes with topic labels and size\n",
    "for comm_id, size in community_sizes.items():\n",
    "    label = topic_map.get(int(comm_id), f\"Community {comm_id}\")\n",
    "    C.add_node(comm_id, size=size, label=label)\n",
    "\n",
    "# Add cross-community edges\n",
    "for (comm1, comm2), weight in edge_weights.items():\n",
    "    C.add_edge(comm1, comm2, weight=weight)\n",
    "\n",
    "# === Step 5: Visualize using Pyvis ===\n",
    "net = Network(height=\"700px\", width=\"100%\", notebook=False)\n",
    "net.barnes_hut()\n",
    "\n",
    "# Generate a distinct color for each community\n",
    "color_map = cm.get_cmap('tab20', len(C.nodes))\n",
    "community_colors = {\n",
    "    community: mcolors.to_hex(color_map(i)) for i, community in enumerate(sorted(C.nodes()))\n",
    "}\n",
    "\n",
    "# Add nodes with colored labels and tooltips\n",
    "for node, data in C.nodes(data=True):\n",
    "    label = data[\"label\"]\n",
    "    size = data[\"size\"]\n",
    "    color = community_colors.get(node, \"#cccccc\")\n",
    "\n",
    "    net.add_node(\n",
    "        str(node),\n",
    "        label=label,\n",
    "        title=f\"{label}<br>{size} Acts\",\n",
    "        size=size * 0.2,\n",
    "        color=color\n",
    "    )\n",
    "\n",
    "# Add visible weighted edges\n",
    "for u, v, data in C.edges(data=True):\n",
    "    weight = data[\"weight\"]\n",
    "    net.add_edge(\n",
    "        str(u), str(v),\n",
    "        value=max(1, weight // 5),\n",
    "        title=f\"{weight} cross-links\"\n",
    "    )\n",
    "\n",
    "# Save and open interactive visual\n",
    "net.show(\"community_projection_labeled.html\")\n",
    "print(\"✅ Saved: community_projection_labeled.html\")"
   ]
  }
 ],
 "metadata": {
  "kernelspec": {
   "display_name": "Python 3",
   "language": "python",
   "name": "python3"
  },
  "language_info": {
   "codemirror_mode": {
    "name": "ipython",
    "version": 3
   },
   "file_extension": ".py",
   "mimetype": "text/x-python",
   "name": "python",
   "nbconvert_exporter": "python",
   "pygments_lexer": "ipython3",
   "version": "3.13.3"
  }
 },
 "nbformat": 4,
 "nbformat_minor": 2
}
